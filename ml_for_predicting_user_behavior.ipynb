{
 "cells": [
  {
   "cell_type": "markdown",
   "id": "0ff50c5c",
   "metadata": {},
   "source": [
    "# Megaline: unveiling user behavior patterns\n",
    "\n",
    "\n",
    "Mobile carrier Megaline has found out that many of their subscribers use legacy plans. They want to develop a model that would analyze subscribers' behavior and recommend one of Megaline's newer plans: Smart or Ultra.\n",
    "\n",
    "Using behavior data about subscribers who have already switched to the new plans we will develop a model that will pick the right plan to offer. \n",
    "\n",
    "The database has already been pre-processed, so we will move straight to creating a model with the highest possible accuracy, above a threshold of 0.75. Accuracy will be tested using the test dataset.\n",
    "\n",
    "## Data description\n",
    "\n",
    "Every observation in the dataset contains monthly behavior information about one user. \n",
    "\n",
    "The information given is as follows:\n",
    "\n",
    "- ``сalls`` — number of calls\n",
    "\n",
    "- ``minutes`` — total call duration in minutes\n",
    "\n",
    "- ``messages`` — number of text messages\n",
    "\n",
    "- ``mb_used`` — Internet traffic used in MB\n",
    "\n",
    "- ``is_ultra`` — plan for the current month (Ultra - 1, Smart - 0).\n"
   ]
  },
  {
   "cell_type": "markdown",
   "id": "568d5cf2",
   "metadata": {},
   "source": [
    "## 1) Import libraries \n"
   ]
  },
  {
   "cell_type": "code",
   "execution_count": 38,
   "id": "794b036e",
   "metadata": {},
   "outputs": [],
   "source": [
    "#Import libraries\n",
    "\n",
    "import pandas as pd\n",
    "from sklearn.tree import DecisionTreeClassifier\n",
    "from sklearn.ensemble import RandomForestClassifier \n",
    "from sklearn.linear_model import LogisticRegression \n",
    "from sklearn.model_selection import train_test_split\n",
    "from sklearn.metrics import accuracy_score\n",
    "\n",
    "from sklearn.dummy import DummyClassifier"
   ]
  },
  {
   "cell_type": "markdown",
   "id": "8c0507be",
   "metadata": {},
   "source": [
    "## 2) Load the dataset into a dataframe"
   ]
  },
  {
   "cell_type": "code",
   "execution_count": 39,
   "id": "c5bcba5b",
   "metadata": {},
   "outputs": [],
   "source": [
    "# Load companies data into a Dataframe\n",
    "try:\n",
    "    df=pd.read_csv('c:/Users/josef/Practicum/Machine learning/users_behavior.csv')\n",
    "except:\n",
    "    df=pd.read_csv('/datasets/users_behavior.csv')"
   ]
  },
  {
   "cell_type": "markdown",
   "id": "ff4a520a",
   "metadata": {},
   "source": [
    "## 3) Open and look through the data file"
   ]
  },
  {
   "cell_type": "code",
   "execution_count": 40,
   "id": "8b581de9",
   "metadata": {},
   "outputs": [
    {
     "data": {
      "text/html": [
       "<div>\n",
       "<style scoped>\n",
       "    .dataframe tbody tr th:only-of-type {\n",
       "        vertical-align: middle;\n",
       "    }\n",
       "\n",
       "    .dataframe tbody tr th {\n",
       "        vertical-align: top;\n",
       "    }\n",
       "\n",
       "    .dataframe thead th {\n",
       "        text-align: right;\n",
       "    }\n",
       "</style>\n",
       "<table border=\"1\" class=\"dataframe\">\n",
       "  <thead>\n",
       "    <tr style=\"text-align: right;\">\n",
       "      <th></th>\n",
       "      <th>calls</th>\n",
       "      <th>minutes</th>\n",
       "      <th>messages</th>\n",
       "      <th>mb_used</th>\n",
       "      <th>is_ultra</th>\n",
       "    </tr>\n",
       "  </thead>\n",
       "  <tbody>\n",
       "    <tr>\n",
       "      <th>0</th>\n",
       "      <td>40.0</td>\n",
       "      <td>311.90</td>\n",
       "      <td>83.0</td>\n",
       "      <td>19915.42</td>\n",
       "      <td>0</td>\n",
       "    </tr>\n",
       "    <tr>\n",
       "      <th>1</th>\n",
       "      <td>85.0</td>\n",
       "      <td>516.75</td>\n",
       "      <td>56.0</td>\n",
       "      <td>22696.96</td>\n",
       "      <td>0</td>\n",
       "    </tr>\n",
       "    <tr>\n",
       "      <th>2</th>\n",
       "      <td>77.0</td>\n",
       "      <td>467.66</td>\n",
       "      <td>86.0</td>\n",
       "      <td>21060.45</td>\n",
       "      <td>0</td>\n",
       "    </tr>\n",
       "    <tr>\n",
       "      <th>3</th>\n",
       "      <td>106.0</td>\n",
       "      <td>745.53</td>\n",
       "      <td>81.0</td>\n",
       "      <td>8437.39</td>\n",
       "      <td>1</td>\n",
       "    </tr>\n",
       "    <tr>\n",
       "      <th>4</th>\n",
       "      <td>66.0</td>\n",
       "      <td>418.74</td>\n",
       "      <td>1.0</td>\n",
       "      <td>14502.75</td>\n",
       "      <td>0</td>\n",
       "    </tr>\n",
       "  </tbody>\n",
       "</table>\n",
       "</div>"
      ],
      "text/plain": [
       "   calls  minutes  messages   mb_used  is_ultra\n",
       "0   40.0   311.90      83.0  19915.42         0\n",
       "1   85.0   516.75      56.0  22696.96         0\n",
       "2   77.0   467.66      86.0  21060.45         0\n",
       "3  106.0   745.53      81.0   8437.39         1\n",
       "4   66.0   418.74       1.0  14502.75         0"
      ]
     },
     "execution_count": 40,
     "metadata": {},
     "output_type": "execute_result"
    }
   ],
   "source": [
    "#Print first five rows\n",
    "df.head()"
   ]
  },
  {
   "cell_type": "code",
   "execution_count": 41,
   "id": "9d338dcb",
   "metadata": {},
   "outputs": [
    {
     "data": {
      "text/html": [
       "<div>\n",
       "<style scoped>\n",
       "    .dataframe tbody tr th:only-of-type {\n",
       "        vertical-align: middle;\n",
       "    }\n",
       "\n",
       "    .dataframe tbody tr th {\n",
       "        vertical-align: top;\n",
       "    }\n",
       "\n",
       "    .dataframe thead th {\n",
       "        text-align: right;\n",
       "    }\n",
       "</style>\n",
       "<table border=\"1\" class=\"dataframe\">\n",
       "  <thead>\n",
       "    <tr style=\"text-align: right;\">\n",
       "      <th></th>\n",
       "      <th>calls</th>\n",
       "      <th>minutes</th>\n",
       "      <th>messages</th>\n",
       "      <th>mb_used</th>\n",
       "      <th>is_ultra</th>\n",
       "    </tr>\n",
       "  </thead>\n",
       "  <tbody>\n",
       "    <tr>\n",
       "      <th>2786</th>\n",
       "      <td>28.0</td>\n",
       "      <td>152.39</td>\n",
       "      <td>21.0</td>\n",
       "      <td>23045.10</td>\n",
       "      <td>0</td>\n",
       "    </tr>\n",
       "    <tr>\n",
       "      <th>693</th>\n",
       "      <td>156.0</td>\n",
       "      <td>999.53</td>\n",
       "      <td>114.0</td>\n",
       "      <td>21535.16</td>\n",
       "      <td>1</td>\n",
       "    </tr>\n",
       "    <tr>\n",
       "      <th>3141</th>\n",
       "      <td>6.0</td>\n",
       "      <td>32.49</td>\n",
       "      <td>12.0</td>\n",
       "      <td>1444.15</td>\n",
       "      <td>1</td>\n",
       "    </tr>\n",
       "    <tr>\n",
       "      <th>3198</th>\n",
       "      <td>22.0</td>\n",
       "      <td>151.00</td>\n",
       "      <td>51.0</td>\n",
       "      <td>30466.84</td>\n",
       "      <td>1</td>\n",
       "    </tr>\n",
       "    <tr>\n",
       "      <th>858</th>\n",
       "      <td>30.0</td>\n",
       "      <td>178.80</td>\n",
       "      <td>45.0</td>\n",
       "      <td>22732.71</td>\n",
       "      <td>0</td>\n",
       "    </tr>\n",
       "  </tbody>\n",
       "</table>\n",
       "</div>"
      ],
      "text/plain": [
       "      calls  minutes  messages   mb_used  is_ultra\n",
       "2786   28.0   152.39      21.0  23045.10         0\n",
       "693   156.0   999.53     114.0  21535.16         1\n",
       "3141    6.0    32.49      12.0   1444.15         1\n",
       "3198   22.0   151.00      51.0  30466.84         1\n",
       "858    30.0   178.80      45.0  22732.71         0"
      ]
     },
     "execution_count": 41,
     "metadata": {},
     "output_type": "execute_result"
    }
   ],
   "source": [
    "#Print a randome sample of five rows\n",
    "df.sample(5)"
   ]
  },
  {
   "cell_type": "code",
   "execution_count": 42,
   "id": "67bdc093",
   "metadata": {},
   "outputs": [
    {
     "name": "stdout",
     "output_type": "stream",
     "text": [
      "<class 'pandas.core.frame.DataFrame'>\n",
      "RangeIndex: 3214 entries, 0 to 3213\n",
      "Data columns (total 5 columns):\n",
      " #   Column    Non-Null Count  Dtype  \n",
      "---  ------    --------------  -----  \n",
      " 0   calls     3214 non-null   float64\n",
      " 1   minutes   3214 non-null   float64\n",
      " 2   messages  3214 non-null   float64\n",
      " 3   mb_used   3214 non-null   float64\n",
      " 4   is_ultra  3214 non-null   int64  \n",
      "dtypes: float64(4), int64(1)\n",
      "memory usage: 125.7 KB\n"
     ]
    }
   ],
   "source": [
    "#Print general info\n",
    "df.info()"
   ]
  },
  {
   "cell_type": "code",
   "execution_count": 43,
   "id": "8d673549",
   "metadata": {},
   "outputs": [
    {
     "data": {
      "text/plain": [
       "0"
      ]
     },
     "execution_count": 43,
     "metadata": {},
     "output_type": "execute_result"
    }
   ],
   "source": [
    "#Check if there are potentially duplicated rows\n",
    "df.duplicated().sum()"
   ]
  },
  {
   "cell_type": "markdown",
   "id": "482c1ba8",
   "metadata": {},
   "source": [
    "\n",
    "## Conclusion\n",
    "\n",
    "From an overall data view, we can tell that the dataset is ready to start developing the model:\n",
    "\n",
    "1) Data types of all columns are either integers or floats.\n",
    "\n",
    "2) There are no missing values (every column has 3214 non-null entries, matching the length of the dataset).\n",
    "\n",
    "3) Columns are correctly named.\n",
    "\n",
    "4) There are no duplicates"
   ]
  },
  {
   "attachments": {
    "image.png": {
     "image/png": "[encoded data removed]"
    }
   },
   "cell_type": "markdown",
   "id": "112d70f4",
   "metadata": {},
   "source": [
    "## 4) Split the source data into a training set, a validation set, and a test set\n",
    "\n",
    "The validation dataset is separated from the source dataset before the model is trained. Otherwise, the model would know all the answers after learning from the training set. Validation shows how the models act in the field and helps to reveal overfitting.\n",
    "\n",
    "Provided that there is no test set available, in this case, the source data has to be split into three parts: training, validation, and test. \n",
    "\n",
    "Since the sizes of validation set and test set are usually equal, source data will be split in a 3:1:1 ratio.\n",
    "\n",
    "![image.png](attachment:image.png)"
   ]
  },
  {
   "cell_type": "code",
   "execution_count": 44,
   "id": "156ceeeb",
   "metadata": {},
   "outputs": [],
   "source": [
    "# Use train_test_split to first make the split on the original dataset into train and test\n",
    "\n",
    "train_df, test_df = train_test_split(df, test_size=0.20, random_state= 12345)"
   ]
  },
  {
   "cell_type": "code",
   "execution_count": 45,
   "id": "0c0a32b4",
   "metadata": {},
   "outputs": [],
   "source": [
    "# Make the split on the train dataset into train and validation\n",
    "\n",
    "train_df, valid_df = train_test_split(train_df, test_size= 0.25, random_state = 12345)"
   ]
  },
  {
   "cell_type": "code",
   "execution_count": 46,
   "id": "8499bdad",
   "metadata": {},
   "outputs": [
    {
     "name": "stdout",
     "output_type": "stream",
     "text": [
      "train_df accounts for the 60% of the dataset, whereas valid_df accounts for the 20% and test_df is comprised by the remaining 20% \n"
     ]
    }
   ],
   "source": [
    "# Check on new datasets size\n",
    "\n",
    "print(f'train_df accounts for the {round(len(train_df)/len(df),2):.0%} of the dataset, whereas valid_df accounts for the {round(len(valid_df)/len(df),2):.0%} and test_df is comprised by the remaining {round(len(test_df)/len(df),2):.0%} ')\n"
   ]
  },
  {
   "cell_type": "markdown",
   "id": "3977574d",
   "metadata": {},
   "source": [
    "The dataset was correctly split into three portions "
   ]
  },
  {
   "cell_type": "markdown",
   "id": "fb797c8e",
   "metadata": {},
   "source": [
    "## 5) Separate features and target\n",
    "\n",
    "The feature that we need to predict is referred to as target. In this case, we want to know if a user behavior is more suitable for the ultra or smart plan, therefore the target will be \"is_ultra\". The rest of the columns will be the features.\n",
    "\n",
    "Considering that we'll structure our work around a target feature that we need to predict (user plan) by using the rest of the features, we know this is a supervised learning task."
   ]
  },
  {
   "cell_type": "code",
   "execution_count": 47,
   "id": "bc041776",
   "metadata": {},
   "outputs": [
    {
     "data": {
      "text/plain": [
       "Index(['calls', 'minutes', 'messages', 'mb_used', 'is_ultra'], dtype='object')"
      ]
     },
     "execution_count": 47,
     "metadata": {},
     "output_type": "execute_result"
    }
   ],
   "source": [
    "#print columns names\n",
    "df.columns"
   ]
  },
  {
   "cell_type": "code",
   "execution_count": 48,
   "id": "8dda46e1",
   "metadata": {},
   "outputs": [],
   "source": [
    "#Separate features from target in all datasets\n",
    "\n",
    "train_features= train_df.drop(['is_ultra'], axis=1)\n",
    "train_target = train_df['is_ultra']\n",
    "valid_features= valid_df.drop(['is_ultra'], axis=1)\n",
    "valid_target = valid_df['is_ultra']\n",
    "test_features = test_df.drop(['is_ultra'], axis=1)\n",
    "test_target=test_df['is_ultra']"
   ]
  },
  {
   "attachments": {
    "image.png": {
     "image/png": "[encoded data removed]"
    }
   },
   "cell_type": "markdown",
   "id": "f6154c7e",
   "metadata": {},
   "source": [
    "## 6) Investigate the quality of different models by changing hyperparameters. \n",
    "\n",
    "Coming up, we'll assess the accuracy achieved by using different models and tuning hyperparameters within them.\n",
    "\n",
    "In this case, we are dealing with a classification supervised learning task with only two possible answers: is_ultra = 1 (True) or 0 (False).\n",
    "\n",
    "Hence, we'll try out the next three different classifiers, training them using the train set and evaluate the accuracy achieved by each of them on the validation set when changing hyperparameters.  Hyperparameters help to improve the model and can be tuned before training.\n",
    "\n",
    "\n",
    "\n",
    "\n",
    "- DecisionTreeClassifier (Parameters: max_depth)\n",
    "\n",
    "- RandomForestClassifier (Parameters: max_depth /n_estimators)\n",
    "\n",
    "- LogisticRegression (solver= 'lbfgs')\n",
    "\n",
    "\n",
    "Accuracy is the ratio of the number of correct answers to the total number of questions (i.e. the test dataset size). The formula is as follows:\n",
    "\n",
    "![image.png](attachment:image.png)\n",
    "\n",
    "\n",
    "However, all classification models created by algorithms in scikit-learn library have the score() method which allows for testing accuracy without using the predict() method. Once we train the model, we'll send the features to the score() method along with answers, and it will transform these features into predicted labels internally to be compared with answers straightforward.\n"
   ]
  },
  {
   "cell_type": "markdown",
   "id": "b9320688",
   "metadata": {},
   "source": [
    "### 6.1) Decision tree classifier\n",
    "\n",
    "DecisionTreeClassifier is a class for decision tree classifications. For our task, we will assume that the decision tree determines whether the user behavior makes the ultra plan more suitable for him/her or not (is_ultra = 1 or 0)\n",
    "\n",
    "Each tree comes out differently. We will train the model to build the most suitable one. In addition to the dataset, we'll need a learning algorithm. The dataset is processed through our learning algorithm, producing a trained model.\n",
    "\n",
    "We'll make the pseudorandomness static with the random_state parameter, and loop through different values for max_depth (starting by 1 and increasing it in steps of 1), training the model with the train set and assessing accuracy on the validation set at each iteration, until we're able to take it to a percentage higher than 77.7%\n",
    "\n"
   ]
  },
  {
   "cell_type": "code",
   "execution_count": 49,
   "id": "bfafee24",
   "metadata": {},
   "outputs": [
    {
     "name": "stdout",
     "output_type": "stream",
     "text": [
      "Model tree= DecisionTreeClassifier(max_depth=10, random_state=1234); Accuracy= 77.80%\n"
     ]
    }
   ],
   "source": [
    "# Create a loop that will increase max_depth parameter until accuracy is higher than a 0.777 threshold\n",
    "\n",
    "#Start with max_depth=1 and highest_accuracy=minimum threshold accepted\n",
    "\n",
    "depth=1\n",
    "highest_accuracy_tree = 0.75\n",
    "model_tree= None\n",
    "\n",
    "#Create a while loop that increases depth until achieving the threshold\n",
    "\n",
    "while highest_accuracy_tree < 0.777:\n",
    "    \n",
    "    #Assign an empty model to a variable, looping through an increasing depth nº\n",
    "    \n",
    "    model_one = DecisionTreeClassifier(random_state=1234, max_depth=depth)\n",
    "    model_one.fit(train_features, train_target)\n",
    "    accuracy_tree= model_one.score(valid_features, valid_target)\n",
    "    \n",
    "    if accuracy_tree > highest_accuracy_tree:\n",
    "        highest_accuracy_tree = accuracy_tree\n",
    "        model_tree = model_one\n",
    "        depth= depth\n",
    "        \n",
    "    depth+=1\n",
    "        \n",
    "    \n",
    "print(f'Model tree= {model_tree}; Accuracy= {round(highest_accuracy_tree,3):.2%}')   \n"
   ]
  },
  {
   "cell_type": "markdown",
   "id": "7de9a0d3",
   "metadata": {},
   "source": [
    "When setting the \"while\" condition as up to < 0.777 the loop breaks in a few seconds. But if we use 0.778 instead, it takes too long to issue a result. This means that max_depth would need to be increased steeply for achieving such target, and hence, the duration of training would spike for only a slight improvement in the model quality. That said, we'll say the most efficient Decision tree classifier is one containing a max_depth of 10 nodes."
   ]
  },
  {
   "cell_type": "markdown",
   "id": "2e23437c",
   "metadata": {},
   "source": [
    "### 6.2) Random Forest Classifier\n",
    "\n",
    "In the sklearn library, within the sklearn.ensemble module, we can also find the RandomForestClassifier, which is a random forest algorithm. It trains a large quantity of independent trees and makes a decision by voting. A random forest helps to improve results and avoid overfitting.\n",
    "\n",
    "We'll store the model in a variable and loop through different values for hyperparameters, training the model with the train set and assessing accuracy on the validation set at each iteration. \n",
    "\n",
    "To set the number of trees in the forest, we will use the n_estimators=(number of estimators) hyperparameter. The quality of the end result is directly proportional to the number of trees, but so is the duration of training, so there's a trade-off. \n",
    "\n",
    "Below, we'll iterate through an increasing count of estimators, using a max_depth of 10 nodes (based on the Decision tree classifier optimum depth), until achieving an accuracy higher than 79.1%.\n",
    "\n"
   ]
  },
  {
   "cell_type": "code",
   "execution_count": 50,
   "id": "d83b4d32",
   "metadata": {},
   "outputs": [
    {
     "name": "stdout",
     "output_type": "stream",
     "text": [
      "Model forest= RandomForestClassifier(max_depth=10, n_estimators=21, random_state=1234); Accuracy= 79.20%\n"
     ]
    }
   ],
   "source": [
    "# Create a loop that will increase n_estimators parameter until accuracy exceeds a 79.1%\n",
    "\n",
    "#Start with estimators=1 and highest_accuracy=minimum threshold accepted\n",
    "\n",
    "estimators=1\n",
    "highest_accuracy_forest = 0.78\n",
    "model_forest= None\n",
    "\n",
    "#Create a while loop that increases depth until achieving the threshold\n",
    "\n",
    "while highest_accuracy_forest < 0.791:\n",
    "    \n",
    "    #Assign an empty model to a variable, looping through an increasing depth nº\n",
    "    \n",
    "    model_two = RandomForestClassifier(random_state=1234, max_depth=10, n_estimators=estimators)\n",
    "    model_two.fit(train_features, train_target)\n",
    "    accuracy_forest= model_two.score(valid_features, valid_target)\n",
    "    \n",
    "    if accuracy_forest > highest_accuracy_forest:\n",
    "        highest_accuracy_forest = accuracy_forest\n",
    "        model_forest= model_two\n",
    "        \n",
    "        \n",
    "    estimators+=10\n",
    "        \n",
    "    \n",
    "print(f'Model forest= {model_forest}; Accuracy= {round(highest_accuracy_forest,3):.2%}')  "
   ]
  },
  {
   "cell_type": "markdown",
   "id": "b42ab785",
   "metadata": {},
   "source": [
    "Now, we'll see how many estimators are needed to get an accuracy higher than the 79.2%\n",
    "\n"
   ]
  },
  {
   "cell_type": "code",
   "execution_count": 51,
   "id": "408ba0b1",
   "metadata": {},
   "outputs": [
    {
     "name": "stdout",
     "output_type": "stream",
     "text": [
      "Model forest= RandomForestClassifier(max_depth=10, n_estimators=251, random_state=1234); Accuracy= 79.30%\n"
     ]
    }
   ],
   "source": [
    "# Create a loop that will increase n_estimators parameter until accuracy exceeds a 79.2%\n",
    "\n",
    "#Start with estimators=1 and highest_accuracy=minimum threshold accepted\n",
    "\n",
    "estimators=1\n",
    "highest_accuracy_forest = 0.78\n",
    "model_forest= None\n",
    "\n",
    "#Create a while loop that increases depth until achieving the threshold\n",
    "\n",
    "while highest_accuracy_forest < 0.792:\n",
    "    \n",
    "    #Assign an empty model to a variable, looping through an increasing depth nº\n",
    "    \n",
    "    model_two = RandomForestClassifier(random_state=1234, max_depth=10, n_estimators=estimators)\n",
    "    model_two.fit(train_features, train_target)\n",
    "    accuracy_forest= model_two.score(valid_features, valid_target)\n",
    "    \n",
    "    if accuracy_forest > highest_accuracy_forest:\n",
    "        highest_accuracy_forest = accuracy_forest\n",
    "        model_forest= model_two\n",
    "        \n",
    "        \n",
    "    estimators+=10\n",
    "        \n",
    "    \n",
    "print(f'Model forest= {model_forest}; Accuracy= {round(highest_accuracy_forest,3):.2%}')  "
   ]
  },
  {
   "cell_type": "markdown",
   "id": "22c5ba43",
   "metadata": {},
   "source": [
    "Here, the most efficiently achievable accuracy was proved to be 79.2%, using 21 estimators. If we set the target accuracy as higher than 79.2%, it takes rather long to get to break the loop, as we'd need to test it using up to 251 estimators. \n",
    "\n",
    "Next, we'll try changing the max_depth hyperparameter with 21 estimators.\n",
    "\n"
   ]
  },
  {
   "cell_type": "code",
   "execution_count": 52,
   "id": "34cfe6ec",
   "metadata": {},
   "outputs": [
    {
     "name": "stdout",
     "output_type": "stream",
     "text": [
      "Model forest= RandomForestClassifier(max_depth=14, n_estimators=21, random_state=1234); Accuracy= 79.90%\n"
     ]
    }
   ],
   "source": [
    "# Create a loop that will increase max_depth parameter until accuracy is higher than 80% using 21 estimators\n",
    "\n",
    "#Start with max_depth and highest_accuracy= maximum achieved above\n",
    "\n",
    "depth=10\n",
    "\n",
    "\n",
    "\n",
    "#Create a while loop that increases depth until achieving the threshold\n",
    "\n",
    "while highest_accuracy_forest < 0.799:\n",
    "    \n",
    "    #Assign an empty model to a variable, looping through an increasing depth nº\n",
    "    \n",
    "    model_two = RandomForestClassifier(random_state=1234, max_depth=depth, n_estimators=21)\n",
    "    model_two.fit(train_features, train_target)\n",
    "    accuracy_forest= model_two.score(valid_features, valid_target)\n",
    "    \n",
    "    if accuracy_forest > highest_accuracy_forest:\n",
    "        highest_accuracy_forest = accuracy_forest\n",
    "        model_forest= model_two\n",
    "        \n",
    "        \n",
    "    depth+=1\n",
    "        \n",
    "    \n",
    "print(f'Model forest= {model_forest}; Accuracy= {round(highest_accuracy_forest,3):.2%}')  "
   ]
  },
  {
   "cell_type": "markdown",
   "id": "7ea3713c",
   "metadata": {},
   "source": [
    "When tuning depth using the optimum count of estimators, we see that 79.9% is the highest accuracy we can achieve without increasing the duration of training too much. \n",
    "\n"
   ]
  },
  {
   "cell_type": "markdown",
   "id": "0e878723",
   "metadata": {},
   "source": [
    "### 5.3) Logistic Regression"
   ]
  },
  {
   "cell_type": "markdown",
   "id": "4213f5a1",
   "metadata": {},
   "source": [
    "Finally, we'll try a third learning algorithm and compare its accuracy to the two previously trained models.\n",
    "\n",
    "Logistic regression has a much simpler structure compared to decision trees, so while it's somewhat rigid, it's not prone to overfitting as much.\n",
    "\n",
    "Basically, it consists of calculating the probability that a given set of features values corresponds with \"1\" in the target variable. If the probability is above 50%, then target variable (ultra_plan) will be labeled as \"1\" Otherwise, it'll be \"0\"\n",
    "\n",
    "Logistic regression does not really have any critical hyperparameters to tune.\n",
    "\n",
    "Despite some differences in performance or convergence can be observed with different solvers (the version of the algorithm that determines how exactly the probability curve is fit), usually they all produce similar results. \n",
    "\n",
    "We'll be using the \"liblinear\" solver because it's the most general one, working well enough for small datasets with a lot of features. Specify solver='lbfgs'. Again, the model will be trained with the train set, and its accuracy will be evaluated based on predictions made for the validation set.\n",
    "\n",
    "\n"
   ]
  },
  {
   "cell_type": "code",
   "execution_count": 53,
   "id": "182d1284",
   "metadata": {},
   "outputs": [
    {
     "name": "stdout",
     "output_type": "stream",
     "text": [
      "Model Logistic regression= LogisticRegression(random_state=1234); Accuracy= 72.60%\n"
     ]
    }
   ],
   "source": [
    "#Create a logistic regression model specifying solver= 'lbfgs'\n",
    "model_regression= LogisticRegression(random_state=1234, solver='lbfgs')\n",
    "\n",
    "#Train the dataset with the train features and target\n",
    "model_regression.fit(train_features, train_target)\n",
    "\n",
    "#Calculate accuracy of the model using valid features and target\n",
    "accuracy_regression = model_regression.score(valid_features, valid_target)\n",
    "\n",
    "\n",
    "print(f'Model Logistic regression= {model_regression}; Accuracy= {round(accuracy_regression,3):.2%}') "
   ]
  },
  {
   "cell_type": "markdown",
   "id": "0b015c42",
   "metadata": {},
   "source": [
    "Linear regression is not an option in this case, as it does not allow for achieving the minimum 75% of accuracy we set for this model evaluation metric.\n"
   ]
  },
  {
   "cell_type": "markdown",
   "id": "f99573a1",
   "metadata": {},
   "source": [
    "## 7) Check the quality of each model using the test set and select the one with the highest accuracy"
   ]
  },
  {
   "cell_type": "code",
   "execution_count": 54,
   "id": "29e399a8",
   "metadata": {},
   "outputs": [
    {
     "name": "stdout",
     "output_type": "stream",
     "text": [
      "The model with the highest accuracy was= RandomForestClassifier(max_depth=14, n_estimators=21, random_state=1234). Its accuracy was of 78.849145%\n"
     ]
    }
   ],
   "source": [
    "#create two variables: final_model and final_accuracy\n",
    "final_accuracy = 0\n",
    "final_model= None\n",
    "\n",
    "#loop through the three models evaluating their accuracy. \n",
    "for model in [model_tree, model_forest, model_regression]:\n",
    "    accuracy= model.score(test_features,test_target)\n",
    "    \n",
    "    #store the model with the highest accuracy in final_model, and its accuracy in final_accuracy\n",
    "    if accuracy > final_accuracy:\n",
    "        final_accuracy = accuracy\n",
    "        final_model = model\n",
    "\n",
    "\n",
    "print(f'The model with the highest accuracy was= {final_model}. Its accuracy was of {final_accuracy:%}')        "
   ]
  },
  {
   "cell_type": "markdown",
   "id": "2acebd30",
   "metadata": {},
   "source": [
    "## 8) Sanity check the model"
   ]
  },
  {
   "cell_type": "markdown",
   "id": "2911c54e",
   "metadata": {},
   "source": [
    "In order to sanity check the calculations made with the score() method we will:\n",
    "\n",
    "    a) Store the series containing predictions for the test set into a new variable.\n",
    "    b) Re-index test_target series, as it was composed by rows selected randomly from a previously indexed dataset.\n",
    "    c) Create a new serie (\"right guesses\") storing a 1 if it was a guess, or 0 otherwise.\n",
    "    d) Sum the total value for right guesses and stored it in \"hits\"\n",
    "    e) Divide the total guesses by the nº of attempts (lenght of test_target series)\n",
    "    f) Compare the abovementioned ratio to the final accuracy obtained in step 7) and ensured it was correctly calculated\n",
    "    \n",
    "Once we've ensured it worked correctly, we'll use a dummy model predicting a constant value to use it as a benchmark and compare its accuracy to the one achieved by the Random Forest Classifier."
   ]
  },
  {
   "cell_type": "code",
   "execution_count": 55,
   "id": "4eb482dc",
   "metadata": {},
   "outputs": [
    {
     "name": "stdout",
     "output_type": "stream",
     "text": [
      "Accuracy calculation was calculated successfully\n"
     ]
    }
   ],
   "source": [
    "#Store series containing predictions for the test set in a new variable\n",
    "test_predictions = pd.Series(final_model.predict(test_features))\n",
    "\n",
    "#Test target is made of rows selected randomly from a previously indexed dataset. Re-index.\n",
    "test_target.reset_index(inplace=True, drop=True)\n",
    "\n",
    "#Create new series (right guesses) setting value as 1 if it was a guess, or 0 otherwise.\n",
    "right_guesses= pd.Series(map(lambda x,y: int(x==y), test_predictions, test_target))\n",
    "\n",
    "#Sum the total value for right guesses and store in \"hits\"\n",
    "hits= right_guesses.sum()\n",
    "\n",
    "#Divide total guesses by the nº of attempts (lenght of test_target)\n",
    "accuracy_checked= hits/len(test_target)\n",
    "\n",
    "#Compare to final accuracy and ensure it was correctly calculated\n",
    "accuracy_difference= final_accuracy-accuracy_checked\n",
    "\n",
    "#Print result of accuracy verification\n",
    "if accuracy_difference==0:\n",
    "    print('Accuracy calculation was calculated successfully')\n",
    "else:\n",
    "    print('Accuracy calculation is incorrect')"
   ]
  },
  {
   "cell_type": "markdown",
   "id": "3851ddc1",
   "metadata": {},
   "source": [
    "### Dummy model \n",
    "\n",
    "A baseline model is essentially a simple model that acts as a reference in a machine learning project. Its main function is to contextualize the results of trained models.\n",
    "\n",
    "Baseline models usually lack complexity and may have little predictive power. Regardless, their inclusion is good practice, as they serve as benchmarks for trained models and improve understanding of the data.\n",
    "\n",
    "In this case, the dummy model built below will predict the most frequent value found in the train target for every observation in the test set."
   ]
  },
  {
   "cell_type": "code",
   "execution_count": 56,
   "id": "60afb1ae",
   "metadata": {},
   "outputs": [
    {
     "name": "stdout",
     "output_type": "stream",
     "text": [
      "The accuracy achieved by a constant model predicting always the most frequent value from the train set is 69.517885%\n"
     ]
    }
   ],
   "source": [
    "#Get AUC-ROC for a baseline model (as we said in the introduction, the AUC-ROC achieved by a random model is 0.5)\n",
    "dummy_clf = DummyClassifier(strategy=\"most_frequent\")\n",
    "dummy_clf.fit(train_features, train_target)\n",
    "dummy_accuracy= dummy_clf.score(test_features,test_target)\n",
    "print(f'The accuracy achieved by a constant model predicting always the most frequent value from the train set is {dummy_accuracy:%}')    "
   ]
  },
  {
   "cell_type": "code",
   "execution_count": 58,
   "id": "f2574b35",
   "metadata": {},
   "outputs": [
    {
     "data": {
      "text/plain": [
       "0    0.695179\n",
       "1    0.304821\n",
       "Name: is_ultra, dtype: float64"
      ]
     },
     "execution_count": 58,
     "metadata": {},
     "output_type": "execute_result"
    }
   ],
   "source": [
    "#print the percentage each value accounts for in the test target\n",
    "test_target.value_counts()/len(test_target)"
   ]
  },
  {
   "cell_type": "markdown",
   "id": "4b487f7f",
   "metadata": {},
   "source": [
    "As we can see above, as the model always predicted 0 as the target, the accuracy achieved equals the % that value represents in the test target."
   ]
  },
  {
   "cell_type": "markdown",
   "id": "11bd180e",
   "metadata": {},
   "source": [
    "# Megaline: unveiling user behavior patterns\n",
    "\n",
    "## Project summary\n",
    "\n",
    "Mobile carrier Megaline has found out that many of their subscribers use legacy plans. They want to develop a model that would analyze subscribers' behavior and recommend one of Megaline's newer plans: Smart or Ultra.\n",
    "\n",
    "Using behavior data about subscribers who have already switched to the new plans we developed a model that can pick the right plan to offer with a higher accuracy than the threshold of 75%. \n",
    "\n",
    "\n",
    "### Data description\n",
    "\n",
    "Every observation in the dataset contains monthly behavior information about one user. \n",
    "\n",
    "The information was given as follows:\n",
    "\n",
    "- ``сalls`` — number of calls\n",
    "\n",
    "- ``minutes`` — total call duration in minutes\n",
    "\n",
    "- ``messages`` — number of text messages\n",
    "\n",
    "- ``mb_used`` — Internet traffic used in MB\n",
    "\n",
    "- ``is_ultra`` — plan for the current month (Ultra - 1, Smart - 0).\n",
    "\n",
    "\n",
    "### Process steps\n",
    "\n",
    "\n",
    "#### 1) Import libraries\n",
    "We imported the libraries needed for loading and storing the dataset, creating the models and calculating their accuracy.\n",
    "\n",
    "#### 2) Load the dataset into a dataframe\n",
    "\n",
    "The dataset was loaded from a CSV file and stored into a dataframe\n",
    "\n",
    "\n",
    "#### 3) Open and look through the data file\n",
    "\n",
    "After printing some dataframe rows, dataframe info and checking on duplicates, we concluded that the data was ready to jump into model training:\n",
    "\n",
    "1) Data types of all columns are either integers or floats.\n",
    "\n",
    "2) There are no missing values (every column has 3214 non-null entries, matching the length of the dataset).\n",
    "\n",
    "3) Columns are correctly named.\n",
    "\n",
    "4) There are no duplicates\n",
    "\n",
    "#### 4) Split the source data into a training set, a validation set, and a test set\n",
    "\n",
    "The validation dataset was separated from the source dataset before the model was trained, using train_test_split from sklearn.model_selection.\n",
    "\n",
    "Provided that there was no test set available in this case, the source data had to be split into three parts: training, validation, and test. \n",
    "\n",
    "Since the sizes of validation set and test set are usually equal, source data was split in a 3:1:1 ratio. (60% train, 20% validation, 20% test)\n",
    "\n",
    "\n",
    "#### 5) Separate features and target\n",
    "\n",
    "In this supervised learning task, we wanted to know if user behavior made them more suitable for the ultra or smart plan, therefore the target feature was \"is_ultra\". The rest of the columns were the features based on which we made the predictions. \n",
    "\n",
    "#### 6) Investigate the quality of different models by changing hyperparameters. \n",
    "\n",
    "Next step consisted of assessing the accuracy achieved by different models by tuning hyperparameters within them. First, the models were trained using the train set. Then, accuracy on the validation test was tested.\n",
    "\n",
    "In all of them, we made the pseudorandomness static with the random_state parameter.\n",
    "\n",
    "As there were only two possible answers: is_ultra = 1 (True) or 0 (False), it was deemed as a classification task.\n",
    "\n",
    "Hence, we tried out the next three different classifiers, and evaluated the accuracy achieved by each of them when changing hyperparameters. \n",
    "\n",
    "\n",
    "- DecisionTreeClassifier (Parameters: max_depth)\n",
    "\n",
    "- RandomForestClassifier (Parameters: max_depth /n_estimators)\n",
    "\n",
    "- LogisticRegression (solver= 'lbfgs')\n",
    "\n",
    "\n",
    "For context, Accuracy is the ratio of the number of correct answers to the total number of questions (i.e. the test dataset size). \n",
    "\n",
    "Since all classification models created by algorithms in scikit-learn library have the score() method (which allows for testing accuracy without using predict()), after training the model, we sent the features to the score() method along with answers, and got the accuracy score straightforwardly.\n",
    "\n",
    "\n",
    "##### 6.1) Decision tree classifier\n",
    "\n",
    "DecisionTreeClassifier is a class for decision tree classifications. For our task, we assumed that the decision tree would determine whether the user behavior made the ultra plan more suitable for him/her or not (is_ultra = 1 or 0)\n",
    "\n",
    "Firstly, we created a  while loop that iterated through the decision tree model, training it with the train set and increasing max_depth parameter in steps of 1 until accuracy exceeded a 77.7% threshold for the validation set. When we tried to raise it up to 77.8%, it took too long to issue a result. \n",
    "\n",
    "This means that the max_depth would need to be increased steeply for achieving such target, and hence, the duration of training would spike for only a slight improvement in the model quality. That said, the optimal parameters in terms of accuracy and run time results were:\n",
    "\n",
    "**Model tree= DecisionTreeClassifier(max_depth=10, random_state=1234); Accuracy= 77.80%**\n",
    "\n",
    "\n",
    "\n",
    "##### 6.2) Random Forest Classifier\n",
    "\n",
    "Next, we tried with a model made up from a set of decision trees: Random Forest Classifier.\n",
    "\n",
    "Initially, we also used a while loop that iterated through the model tuning one hyperparameter: n_estimators. It is used to set the number of trees in the forest.\n",
    "\n",
    "We started by using one estimator, and increased it from 10 to 10, until achieving a 79.1% accuracy on the validation set. Max_depth was set as 10, in conrcondance to the results obtained in the decision tree classifier testing.\n",
    "\n",
    "The results were as follows:\n",
    "\n",
    "**Model forest= RandomForestClassifier(max_depth=10, n_estimators=21, random_state=1234); Accuracy= 79.20%**\n",
    "\n",
    "When changing the condition in the while loop to break it only after an accuracy higher than 79.2% was achieved, we came accross the need of 251 n_estimators. Hence, the previous result was preferred due to its run speed. \n",
    "\n",
    "Finally, using 21 n_estimators, we proceeded to optimize max_depth. This time, the model was trained with the train set within a while loop that increased max_depth in units of 1, starting from ten, and only broke once an accuracy of 79.999% on the validation set was achieved.\n",
    "\n",
    "The final Random Forest Classifier had the following hyperparameters and accuracy:\n",
    "\n",
    "**Model forest= RandomForestClassifier(max_depth=14, n_estimators=21, random_state=1234); Accuracy= 79.90%**\n",
    "\n",
    "##### 6.3) Logistic Regression\n",
    "\n",
    "Finally, we tried a third learning algorithm and compared its accuracy to the two previously trained models.\n",
    "\n",
    "Logistic regression does not really have any critical hyperparameters to tune.\n",
    "\n",
    "Despite some differences in performance or convergence can be observed with different solvers (the version of the algorithm that determines how exactly the probability curve is fit), usually they all produce similar results.\n",
    "\n",
    "In this case, we used the \"liblinear\" solver because it's the most general one, working well enough for small datasets with a lot of features. The model was trained using the train set, and the prediction accuracy on the validation set was 72%.\n",
    "\n",
    "We concluded that Linear regression is not an option in this case, as it did not allow for achieving the minimum 75% of accuracy we set for this model evaluation metric.\n",
    "\n",
    "#####  7) Check the quality of each model using the test set and select the one with the highest accuracy\n",
    "\n",
    "We calculated the accuracy of predicitons made by each model using test_features, as compared to the test_target.\n",
    "\n",
    "The model with the highest accuracy was= RandomForestClassifier(max_depth=14, n_estimators=21, random_state=1234). Its accuracy was of 78.849145%\n",
    "\n",
    "#####  8) Sanity check the model\n",
    "\n",
    "In order to sanity check the calculations made with the score() method we:\n",
    "\n",
    "    a) Stored the series containing predictions for the test set into a new variable.\n",
    "    b) Re-indexed test_target series, as it was composed by rows selected randomly from a previously indexed dataset.\n",
    "    c) Created a new serie (\"right guesses\") storing a 1 if it was a guess, or 0 otherwise.\n",
    "    d) Summed the total value for right guesses and stored it in \"hits\"\n",
    "    e) Divided the total guesses by the nº of attempts (lenght of test_target series)\n",
    "    f) Compared the abovementioned ratio to the final accuracy obtained in step 7) and ensured it was correctly calculated\n",
    "    \n",
    "Once we ensured it worked correctly, we compared it to a baseline constant model, which achieved an accuracy of the 69% (10% lower than the random forest classifier).\n",
    "\n",
    "### Conclusion:\n",
    "\n",
    "The model we will use to predict whether users suscribed to legacy plans are more likely to switch to Smart or Ultra plans, will be:\n",
    "\n",
    "RandomForestClassifier(max_depth=14, n_estimators=21, random_state=1234)\n",
    "\n",
    "The model achieved an accuracy of the 79.9% on the validation test, and of 78.85% on the test set."
   ]
  },
  {
   "cell_type": "code",
   "execution_count": null,
   "id": "3fc94a95",
   "metadata": {},
   "outputs": [],
   "source": []
  }
 ],
 "metadata": {
  "kernelspec": {
   "display_name": "Python 3 (ipykernel)",
   "language": "python",
   "name": "python3"
  },
  "language_info": {
   "codemirror_mode": {
    "name": "ipython",
    "version": 3
   },
   "file_extension": ".py",
   "mimetype": "text/x-python",
   "name": "python",
   "nbconvert_exporter": "python",
   "pygments_lexer": "ipython3",
   "version": "3.9.7"
  },
  "toc": {
   "base_numbering": 1,
   "nav_menu": {},
   "number_sections": true,
   "sideBar": true,
   "skip_h1_title": true,
   "title_cell": "Table of Contents",
   "title_sidebar": "Contents",
   "toc_cell": false,
   "toc_position": {},
   "toc_section_display": true,
   "toc_window_display": false
  }
 },
 "nbformat": 4,
 "nbformat_minor": 5
}
